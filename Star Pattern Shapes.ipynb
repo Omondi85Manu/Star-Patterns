{
 "cells": [
  {
   "cell_type": "markdown",
   "id": "cdda1fa6",
   "metadata": {},
   "source": [
    "# 1. Printing a triangle of stars:"
   ]
  },
  {
   "cell_type": "code",
   "execution_count": 3,
   "id": "f139f345",
   "metadata": {},
   "outputs": [
    {
     "name": "stdout",
     "output_type": "stream",
     "text": [
      "*\n",
      "**\n",
      "***\n",
      "****\n",
      "*****\n",
      "******\n"
     ]
    }
   ],
   "source": [
    "rows = 6\n",
    "for i in range(rows):\n",
    "    for j in range(i + 1):\n",
    "        print ('*', end = '')\n",
    "    print()"
   ]
  },
  {
   "cell_type": "markdown",
   "id": "dd1912e5",
   "metadata": {},
   "source": [
    "# 2. Print an inverted triangle of stars:"
   ]
  },
  {
   "cell_type": "code",
   "execution_count": 5,
   "id": "97d6f648",
   "metadata": {},
   "outputs": [
    {
     "name": "stdout",
     "output_type": "stream",
     "text": [
      "******\n",
      "*****\n",
      "****\n",
      "***\n",
      "**\n",
      "*\n"
     ]
    }
   ],
   "source": [
    "rows = 6\n",
    "for i in range(rows, 0, -1):\n",
    "    for j in range(0, i):\n",
    "        print('*', end = '')\n",
    "    print()"
   ]
  },
  {
   "cell_type": "markdown",
   "id": "6ca20691",
   "metadata": {},
   "source": [
    "# 3. Printing a diamond of stars:"
   ]
  },
  {
   "cell_type": "code",
   "execution_count": 9,
   "id": "c748c899",
   "metadata": {},
   "outputs": [
    {
     "name": "stdout",
     "output_type": "stream",
     "text": [
      "    *\n",
      "   ***\n",
      "  *****\n",
      " *******\n",
      "*********\n",
      " *******\n",
      "  *****\n",
      "   ***\n",
      "    *\n"
     ]
    }
   ],
   "source": [
    "rows = 5\n",
    "for i in range(1, rows+1):\n",
    "    for j in range(1, rows-i+1):\n",
    "        print(' ', end='')\n",
    "    for k in range(1, 2*i):\n",
    "        print('*',end='')\n",
    "    print()\n",
    "for i in range(rows-1, 0, -1):\n",
    "    for j in range(1, rows-i+1):\n",
    "        print(' ', end='')\n",
    "    for k in range(1, 2*i):\n",
    "        print('*',end='')\n",
    "    print()"
   ]
  },
  {
   "cell_type": "markdown",
   "id": "0abbe6c5",
   "metadata": {},
   "source": [
    "# 4. Print a hollow square of stars:"
   ]
  },
  {
   "cell_type": "code",
   "execution_count": 14,
   "id": "4987aaa0",
   "metadata": {},
   "outputs": [
    {
     "name": "stdout",
     "output_type": "stream",
     "text": [
      "******\n",
      "*    *\n",
      "*    *\n",
      "*    *\n",
      "*    *\n",
      "******\n"
     ]
    }
   ],
   "source": [
    "rows = 6\n",
    "for i in range(rows):\n",
    "    for j in range(rows):\n",
    "        if i == 0 or i == rows-1 or j == 0 or j == rows-1:\n",
    "            print('*', end= '')\n",
    "        else:\n",
    "            print(' ', end= '')\n",
    "    print()"
   ]
  },
  {
   "cell_type": "markdown",
   "id": "01cf2de3",
   "metadata": {},
   "source": [
    "# 5. Print a solid square of stars:"
   ]
  },
  {
   "cell_type": "code",
   "execution_count": 20,
   "id": "c5a43f16",
   "metadata": {},
   "outputs": [
    {
     "name": "stdout",
     "output_type": "stream",
     "text": [
      "****\n",
      "****\n",
      "****\n",
      "****\n"
     ]
    }
   ],
   "source": [
    "rows = 4\n",
    "for i in range(rows):\n",
    "    for j in range(rows):\n",
    "        print('*', end='')\n",
    "    print()"
   ]
  },
  {
   "cell_type": "markdown",
   "id": "f7e472c1",
   "metadata": {},
   "source": [
    "# 6. Print a hollow diamond of stars:"
   ]
  },
  {
   "cell_type": "code",
   "execution_count": 24,
   "id": "63131041",
   "metadata": {},
   "outputs": [
    {
     "name": "stdout",
     "output_type": "stream",
     "text": [
      "   *\n",
      "  * *\n",
      " *   *\n",
      "*     *\n",
      " *   *\n",
      "  * *\n",
      "   *\n"
     ]
    }
   ],
   "source": [
    "rows = 4\n",
    "for i in range(1, rows+1):\n",
    "    for j in range( 1, rows-i+1):\n",
    "        print(' ', end='')\n",
    "    for k in range(1, 2*i):       \n",
    "        if k == 1 or k == 2*i-1:\n",
    "            print('*', end='')\n",
    "        else:\n",
    "            print(' ', end='')\n",
    "    print()       \n",
    "for i in range(rows-1, 0, -1):\n",
    "    for j in range( 1, rows-i+1):\n",
    "        print(' ', end='')\n",
    "    for k in range(1, 2*i):       \n",
    "        if k == 1 or k == 2*i-1:\n",
    "            print('*', end='')\n",
    "        else:\n",
    "            print(' ', end='')\n",
    "    print()       "
   ]
  },
  {
   "cell_type": "markdown",
   "id": "24d2f24f",
   "metadata": {},
   "source": [
    "# 7. Print a star pattern in the shape of a parallelogram:"
   ]
  },
  {
   "cell_type": "code",
   "execution_count": 25,
   "id": "eaac983d",
   "metadata": {},
   "outputs": [
    {
     "name": "stdout",
     "output_type": "stream",
     "text": [
      "    *****\n",
      "   *****\n",
      "  *****\n",
      " *****\n",
      "*****\n"
     ]
    }
   ],
   "source": [
    "rows = 5\n",
    "for i in range(1, rows+1):\n",
    "    for j in range(1, rows-i+1):\n",
    "        print(' ', end='')\n",
    "    for k in range(1, rows+1):\n",
    "        print('*', end='')\n",
    "    print()"
   ]
  },
  {
   "cell_type": "markdown",
   "id": "fc7c2977",
   "metadata": {},
   "source": [
    "# 8. Print a star pattern in the shape of an arrow:"
   ]
  },
  {
   "cell_type": "code",
   "execution_count": 28,
   "id": "cecbca87",
   "metadata": {},
   "outputs": [
    {
     "name": "stdout",
     "output_type": "stream",
     "text": [
      "*\n",
      "**\n",
      "***\n",
      "****\n",
      "*****\n",
      "****\n",
      "***\n",
      "**\n",
      "*\n"
     ]
    }
   ],
   "source": [
    "rows = 5\n",
    "for i in range(1, rows):\n",
    "    for j in range(i):\n",
    "        print('*',end='')\n",
    "    print()\n",
    "for i in range(rows, 0, -1):\n",
    "    for j in range(i):\n",
    "        print('*',end='')\n",
    "    print()    "
   ]
  },
  {
   "cell_type": "markdown",
   "id": "fd6461a2",
   "metadata": {},
   "source": [
    "# 9. Print a star pattern in the of a heart:"
   ]
  },
  {
   "cell_type": "code",
   "execution_count": 33,
   "id": "1d205ea8",
   "metadata": {},
   "outputs": [
    {
     "name": "stdout",
     "output_type": "stream",
     "text": [
      " ** ** \n",
      "*  *  *\n",
      "*     *\n",
      " *   * \n",
      "  * *  \n",
      "   *   \n",
      "  * *  \n"
     ]
    }
   ],
   "source": [
    "rows = 7\n",
    "for i in range(rows):\n",
    "    for j in range(rows):\n",
    "        if i == 0 and j % 3 !=0 or i == 1 and j % 3 ==0 or i-j == 2 or i+j ==8:\n",
    "            print('*', end='')\n",
    "        else:\n",
    "            print(' ', end='')\n",
    "    print()"
   ]
  },
  {
   "cell_type": "markdown",
   "id": "3d94b9a9",
   "metadata": {},
   "source": [
    "# 10. Print a star pattern int the shape of a butterfly:"
   ]
  },
  {
   "cell_type": "code",
   "execution_count": 36,
   "id": "df657e4a",
   "metadata": {},
   "outputs": [
    {
     "name": "stdout",
     "output_type": "stream",
     "text": [
      "*        *\n",
      "**      **\n",
      "***    ***\n",
      "****  ****\n",
      "**********\n",
      "**********\n",
      "****  ****\n",
      "***    ***\n",
      "**      **\n",
      "*        *\n"
     ]
    }
   ],
   "source": [
    "rows = 5\n",
    "for i in range(rows):\n",
    "    for j in range(i+1):\n",
    "        print('*', end='')\n",
    "    for j in range(2*rows-2*i-2):\n",
    "        print(' ', end='')\n",
    "    for j in range(i+1):\n",
    "        print('*', end='')\n",
    "    print()\n",
    "for i in range(rows):\n",
    "    for j in range(rows-i):\n",
    "        print('*', end='')\n",
    "    for j in range(2*i):\n",
    "        print(' ', end='')\n",
    "    for j in range(rows-i):\n",
    "        print('*', end='')\n",
    "    print()"
   ]
  },
  {
   "cell_type": "code",
   "execution_count": null,
   "id": "47fc0b05",
   "metadata": {},
   "outputs": [],
   "source": []
  }
 ],
 "metadata": {
  "kernelspec": {
   "display_name": "Python 3 (ipykernel)",
   "language": "python",
   "name": "python3"
  },
  "language_info": {
   "codemirror_mode": {
    "name": "ipython",
    "version": 3
   },
   "file_extension": ".py",
   "mimetype": "text/x-python",
   "name": "python",
   "nbconvert_exporter": "python",
   "pygments_lexer": "ipython3",
   "version": "3.8.8"
  }
 },
 "nbformat": 4,
 "nbformat_minor": 5
}
